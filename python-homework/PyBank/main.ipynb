{
 "cells": [
  {
   "cell_type": "code",
   "execution_count": 2,
   "metadata": {},
   "outputs": [],
   "source": [
    "import csv\n",
    "from pathlib import Path"
   ]
  },
  {
   "cell_type": "code",
   "execution_count": 3,
   "metadata": {},
   "outputs": [],
   "source": [
    "csvfilename = 'budget_data.csv'"
   ]
  },
  {
   "cell_type": "code",
   "execution_count": 4,
   "metadata": {},
   "outputs": [
    {
     "data": {
      "text/plain": [
       "WindowsPath('C:/Users/Work/Desktop/python-homework/PyBank')"
      ]
     },
     "execution_count": 4,
     "metadata": {},
     "output_type": "execute_result"
    }
   ],
   "source": [
    "Path.cwd()"
   ]
  },
  {
   "cell_type": "code",
   "execution_count": 5,
   "metadata": {},
   "outputs": [],
   "source": [
    "csvpath = Path('../PyBank/budget_data.csv')"
   ]
  },
  {
   "cell_type": "code",
   "execution_count": 6,
   "metadata": {},
   "outputs": [],
   "source": [
    "total_months = []\n",
    "total_profit = []\n",
    "monthly_profit_change = []"
   ]
  },
  {
   "cell_type": "code",
   "execution_count": 8,
   "metadata": {},
   "outputs": [
    {
     "name": "stdout",
     "output_type": "stream",
     "text": [
      "Financial Analysis\n",
      "....................................\n",
      "Total Months: 172\n",
      "Total: $76765156\n",
      "Average Change: -1537.38\n",
      "Greatest Increase in Profits: Feb-2012 ($1926159)\n",
      "Greatest Decrease in Profits: Sep-2013 ($-2196167)\n"
     ]
    }
   ],
   "source": [
    "with open(csvpath, 'r') as csvfile:\n",
    "        csvreader = csv.reader(csvfile, delimiter=',')\n",
    "        \n",
    "        header = next(csvreader)\n",
    "        \n",
    "        for row in csvreader:\n",
    "            total_months.append(row[0])\n",
    "            total_profit.append(int(row[1]))\n",
    "            \n",
    "        for i in range(len(total_profit)-1):\n",
    "            monthly_profit_change.append(total_profit[i+1]-total_profit[i])\n",
    "            \n",
    "max_increase_value = max(monthly_profit_change)\n",
    "max_decrease_value = min(monthly_profit_change)\n",
    "\n",
    "max_increase_month = monthly_profit_change.index(max(monthly_profit_change)) + 1\n",
    "max_decrease_month = monthly_profit_change.index(min(monthly_profit_change)) + 1\n",
    "\n",
    "print(\"Financial Analysis\")\n",
    "print(\"....................................\")\n",
    "print(f\"Total Months: {len(total_months)}\")\n",
    "print(f\"Total: ${sum(total_profit)}\")\n",
    "print(f\"Average Change: {round(sum(monthly_profit_change)/len(monthly_profit_change), 2)}\")\n",
    "print(f\"Greatest Increase in Profits: {total_months[max_increase_month]} (${(str(max_increase_value))})\")\n",
    "print(f\"Greatest Decrease in Profits: {total_months[max_decrease_month]} (${(str(max_decrease_value))})\")\n"
   ]
  },
  {
   "cell_type": "code",
   "execution_count": 9,
   "metadata": {},
   "outputs": [],
   "source": [
    "output_path_here = Path('Financial_Analysis.txt')\n",
    "output_path_resource = Path('../PyBank/budget_data.csv')"
   ]
  },
  {
   "cell_type": "code",
   "execution_count": 15,
   "metadata": {},
   "outputs": [],
   "source": [
    "with open(output_path_here, \"w\") as file:\n",
    "    file.write(\"Financial Analysis\")\n",
    "    file.write(\"\\n\")\n",
    "    file.write(\"....................................\")\n",
    "    file.write(\"\\n\")\n",
    "    file.write(f\"Total Months: {len(total_months)}\")\n",
    "    file.write(f\"Total: ${sum(total_profit)}\")\n",
    "    file.write(\"\\n\")\n",
    "    file.write(f\"Average Change: {round(sum(monthly_profit_change)/len(monthly_profit_change), 2)}\")\n",
    "    file.write(\"\\n\")\n",
    "    file.write(f\"Greatest Increase in Profits: {total_months[max_increase_month]} (${(str(max_increase_value))})\")\n",
    "    file.write(\"\\n\")\n",
    "    file.write(f\"Greatest Decrease in Profits: {total_months[max_decrease_month]} (${(str(max_decrease_value))})\")\n"
   ]
  },
  {
   "cell_type": "code",
   "execution_count": null,
   "metadata": {},
   "outputs": [],
   "source": []
  }
 ],
 "metadata": {
  "kernelspec": {
   "display_name": "Python 3",
   "language": "python",
   "name": "python3"
  },
  "language_info": {
   "codemirror_mode": {
    "name": "ipython",
    "version": 3
   },
   "file_extension": ".py",
   "mimetype": "text/x-python",
   "name": "python",
   "nbconvert_exporter": "python",
   "pygments_lexer": "ipython3",
   "version": "3.7.6"
  }
 },
 "nbformat": 4,
 "nbformat_minor": 4
}
